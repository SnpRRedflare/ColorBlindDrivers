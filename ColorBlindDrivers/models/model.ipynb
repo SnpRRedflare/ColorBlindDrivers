{
 "cells": [
  {
   "cell_type": "markdown",
   "metadata": {},
   "source": [
    "## Import Statements"
   ]
  },
  {
   "cell_type": "code",
   "execution_count": 8,
   "metadata": {},
   "outputs": [],
   "source": [
    "import os\n",
    "import json\n",
    "import numpy as np\n",
    "import cv2\n",
    "from sklearn.model_selection import train_test_split\n",
    "import tensorflow as tf\n",
    "from tensorflow import keras\n",
    "# from tensorflow.keras.models import Sequential\n",
    "from tensorflow.python.keras.models import Sequential\n",
    "# from tensorflow.keras.layers import Conv2D, MaxPooling2D, Flatten, Dense, Dropout\n",
    "from tensorflow.python.keras.layers import Conv2D, MaxPooling2D, Flatten, Dense, Dropout\n",
    "# from tensorflow.keras.callbacks import EarlyStopping, ModelCheckpoint\n",
    "from tensorflow.python.keras.callbacks import EarlyStopping, ModelCheckpoint"
   ]
  },
  {
   "cell_type": "markdown",
   "metadata": {},
   "source": [
    "## Defining Paths"
   ]
  },
  {
   "cell_type": "code",
   "execution_count": 9,
   "metadata": {},
   "outputs": [],
   "source": [
    "# Paths\n",
    "DATASET_PATH = \"./data\"\n",
    "IMAGES_DIR = os.path.join(DATASET_PATH, \"images\")\n",
    "ANNOTATIONS_FILE = os.path.join(DATASET_PATH, \"annotations.json\")\n",
    "\n",
    "# Class mapping\n",
    "CLASS_MAPPING = {\"red\": 0, \"yellow\": 1, \"green\": 2}"
   ]
  },
  {
   "cell_type": "code",
   "execution_count": 10,
   "metadata": {},
   "outputs": [],
   "source": [
    "def load_and_preprocess_data():\n",
    "    with open(ANNOTATIONS_FILE, 'r') as f:\n",
    "        annotations = json.load(f)\n",
    "\n",
    "\n",
    "\n",
    "\n",
    "    images, labels = [], []\n",
    "\n",
    "\n",
    "\n",
    "\n",
    "    for item in annotations:\n",
    "        img_path = os.path.join(IMAGES_DIR, item['path'])\n",
    "        img = cv2.imread(img_path)\n",
    "        if img is None:\n",
    "            continue\n",
    "        img = cv2.cvtColor(img, cv2.COLOR_BGR2RGB)\n",
    "        img = cv2.resize(img, (224, 224))  # Resize to match the model input size\n",
    "        images.append(img)\n",
    "\n",
    "\n",
    "\n",
    "\n",
    "        # Extract the class label\n",
    "        label = CLASS_MAPPING[item['annotations'][0]['class']]\n",
    "        labels.append(label)\n",
    "\n",
    "\n",
    "\n",
    "\n",
    "    # Normalize and split data\n",
    "    images = np.array(images, dtype='float32') / 255.0\n",
    "    labels = np.array(labels)\n",
    "\n",
    "\n",
    "\n",
    "\n",
    "    return train_test_split(images, labels, test_size=0.2, random_state=42)\n",
    "\n"
   ]
  },
  {
   "cell_type": "code",
   "execution_count": null,
   "metadata": {},
   "outputs": [],
   "source": []
  }
 ],
 "metadata": {
  "kernelspec": {
   "display_name": "Python 3",
   "language": "python",
   "name": "python3"
  },
  "language_info": {
   "codemirror_mode": {
    "name": "ipython",
    "version": 3
   },
   "file_extension": ".py",
   "mimetype": "text/x-python",
   "name": "python",
   "nbconvert_exporter": "python",
   "pygments_lexer": "ipython3",
   "version": "3.12.8"
  }
 },
 "nbformat": 4,
 "nbformat_minor": 2
}
